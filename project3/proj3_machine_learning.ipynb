{
 "cells": [
  {
   "cell_type": "markdown",
   "metadata": {},
   "source": [
    "# Machine Learning"
   ]
  },
  {
   "cell_type": "markdown",
   "metadata": {},
   "source": [
    "Myriah Hodgson, for DSCI 372"
   ]
  },
  {
   "cell_type": "code",
   "execution_count": 1,
   "metadata": {},
   "outputs": [],
   "source": [
    "# imports\n",
    "import pandas as pd\n",
    "import numpy as np\n",
    "from sklearn.model_selection import train_test_split\n",
    "from sklearn.metrics import classification_report, accuracy_score\n",
    "import seaborn as sns\n",
    "import matplotlib.pyplot as plt"
   ]
  },
  {
   "cell_type": "markdown",
   "metadata": {},
   "source": [
    "Load the data (now cleaned) again and identify our features and target variable:"
   ]
  },
  {
   "cell_type": "code",
   "execution_count": 2,
   "metadata": {},
   "outputs": [],
   "source": [
    "parks = pd.read_csv('Cleaned_ParkData.csv')\n",
    "\n",
    "y = parks['High_Visitation'] # target variable\n",
    "\n",
    "X = parks.drop(columns=['High_Visitation']) # all other features"
   ]
  },
  {
   "cell_type": "markdown",
   "metadata": {},
   "source": [
    "First we can split the data into training, validation, and testing sets:"
   ]
  },
  {
   "cell_type": "code",
   "execution_count": 3,
   "metadata": {},
   "outputs": [
    {
     "name": "stdout",
     "output_type": "stream",
     "text": [
      "Train shape: (26716, 165)\n",
      "Validation shape: (3340, 165)\n",
      "Test shape: (3339, 165)\n"
     ]
    }
   ],
   "source": [
    "# Split the data into training (80%) and testing (20%) sets\n",
    "X_train, X_testing_val, y_train, y_testing_val = train_test_split(X, y, test_size=0.2, random_state=42)\n",
    "\n",
    "# Then from there, split the testing data into test (10%) and validation (10%) sets\n",
    "X_test, X_validation, y_test, y_validation = train_test_split(X_testing_val, y_testing_val, test_size=0.5, random_state=42)\n",
    "\n",
    "print(f\"Train shape: {X_train.shape}\")\n",
    "print(f\"Validation shape: {X_validation.shape}\")\n",
    "print(f\"Test shape: {X_test.shape}\")"
   ]
  },
  {
   "cell_type": "markdown",
   "metadata": {},
   "source": [
    "## Logistic Classification"
   ]
  },
  {
   "cell_type": "code",
   "execution_count": 4,
   "metadata": {},
   "outputs": [
    {
     "name": "stdout",
     "output_type": "stream",
     "text": [
      "Training Accuracy: 0.7819658631531666\n",
      "Validation Accuracy: 0.7844311377245509\n",
      "Classification Report (of the Validation Set):\n",
      "              precision    recall  f1-score   support\n",
      "\n",
      "           0       0.78      0.81      0.80      1725\n",
      "           1       0.79      0.76      0.77      1615\n",
      "\n",
      "    accuracy                           0.78      3340\n",
      "   macro avg       0.78      0.78      0.78      3340\n",
      "weighted avg       0.78      0.78      0.78      3340\n",
      "\n"
     ]
    }
   ],
   "source": [
    "# import logistic regression model, assign it\n",
    "from sklearn.linear_model import LogisticRegression\n",
    "\n",
    "logistic_model = LogisticRegression(max_iter=5000, C=10, penalty='l1', solver='liblinear') \n",
    "    \n",
    "    # Added lasso regression to improve accuracy\n",
    "    # Also increased the total number of iterations\n",
    "\n",
    "# fit the model on the training data\n",
    "logistic_model.fit(X_train, y_train)\n",
    "\n",
    "# using the model, predict for the training and validation sets\n",
    "log_validation_prediction = logistic_model.predict(X_validation)\n",
    "log_train_prediction = logistic_model.predict(X_train)\n",
    "\n",
    "# get accuracies\n",
    "log_train_accuracy = accuracy_score(log_train_prediction, y_train)\n",
    "log_validation_accuracy = accuracy_score(log_validation_prediction, y_validation)\n",
    "\n",
    "print(f\"Training Accuracy: {log_train_accuracy}\")\n",
    "print(f\"Validation Accuracy: {log_validation_accuracy}\")\n",
    "\n",
    "print(\"Classification Report (of the Validation Set):\")\n",
    "print(classification_report(y_validation, log_validation_prediction))"
   ]
  },
  {
   "cell_type": "markdown",
   "metadata": {},
   "source": [
    "## Support Vector Machine"
   ]
  },
  {
   "cell_type": "markdown",
   "metadata": {},
   "source": [
    "Let's first try it with a rbf kernel:"
   ]
  },
  {
   "cell_type": "code",
   "execution_count": 5,
   "metadata": {},
   "outputs": [
    {
     "data": {
      "text/html": [
       "<style>#sk-container-id-1 {color: black;background-color: white;}#sk-container-id-1 pre{padding: 0;}#sk-container-id-1 div.sk-toggleable {background-color: white;}#sk-container-id-1 label.sk-toggleable__label {cursor: pointer;display: block;width: 100%;margin-bottom: 0;padding: 0.3em;box-sizing: border-box;text-align: center;}#sk-container-id-1 label.sk-toggleable__label-arrow:before {content: \"▸\";float: left;margin-right: 0.25em;color: #696969;}#sk-container-id-1 label.sk-toggleable__label-arrow:hover:before {color: black;}#sk-container-id-1 div.sk-estimator:hover label.sk-toggleable__label-arrow:before {color: black;}#sk-container-id-1 div.sk-toggleable__content {max-height: 0;max-width: 0;overflow: hidden;text-align: left;background-color: #f0f8ff;}#sk-container-id-1 div.sk-toggleable__content pre {margin: 0.2em;color: black;border-radius: 0.25em;background-color: #f0f8ff;}#sk-container-id-1 input.sk-toggleable__control:checked~div.sk-toggleable__content {max-height: 200px;max-width: 100%;overflow: auto;}#sk-container-id-1 input.sk-toggleable__control:checked~label.sk-toggleable__label-arrow:before {content: \"▾\";}#sk-container-id-1 div.sk-estimator input.sk-toggleable__control:checked~label.sk-toggleable__label {background-color: #d4ebff;}#sk-container-id-1 div.sk-label input.sk-toggleable__control:checked~label.sk-toggleable__label {background-color: #d4ebff;}#sk-container-id-1 input.sk-hidden--visually {border: 0;clip: rect(1px 1px 1px 1px);clip: rect(1px, 1px, 1px, 1px);height: 1px;margin: -1px;overflow: hidden;padding: 0;position: absolute;width: 1px;}#sk-container-id-1 div.sk-estimator {font-family: monospace;background-color: #f0f8ff;border: 1px dotted black;border-radius: 0.25em;box-sizing: border-box;margin-bottom: 0.5em;}#sk-container-id-1 div.sk-estimator:hover {background-color: #d4ebff;}#sk-container-id-1 div.sk-parallel-item::after {content: \"\";width: 100%;border-bottom: 1px solid gray;flex-grow: 1;}#sk-container-id-1 div.sk-label:hover label.sk-toggleable__label {background-color: #d4ebff;}#sk-container-id-1 div.sk-serial::before {content: \"\";position: absolute;border-left: 1px solid gray;box-sizing: border-box;top: 0;bottom: 0;left: 50%;z-index: 0;}#sk-container-id-1 div.sk-serial {display: flex;flex-direction: column;align-items: center;background-color: white;padding-right: 0.2em;padding-left: 0.2em;position: relative;}#sk-container-id-1 div.sk-item {position: relative;z-index: 1;}#sk-container-id-1 div.sk-parallel {display: flex;align-items: stretch;justify-content: center;background-color: white;position: relative;}#sk-container-id-1 div.sk-item::before, #sk-container-id-1 div.sk-parallel-item::before {content: \"\";position: absolute;border-left: 1px solid gray;box-sizing: border-box;top: 0;bottom: 0;left: 50%;z-index: -1;}#sk-container-id-1 div.sk-parallel-item {display: flex;flex-direction: column;z-index: 1;position: relative;background-color: white;}#sk-container-id-1 div.sk-parallel-item:first-child::after {align-self: flex-end;width: 50%;}#sk-container-id-1 div.sk-parallel-item:last-child::after {align-self: flex-start;width: 50%;}#sk-container-id-1 div.sk-parallel-item:only-child::after {width: 0;}#sk-container-id-1 div.sk-dashed-wrapped {border: 1px dashed gray;margin: 0 0.4em 0.5em 0.4em;box-sizing: border-box;padding-bottom: 0.4em;background-color: white;}#sk-container-id-1 div.sk-label label {font-family: monospace;font-weight: bold;display: inline-block;line-height: 1.2em;}#sk-container-id-1 div.sk-label-container {text-align: center;}#sk-container-id-1 div.sk-container {/* jupyter's `normalize.less` sets `[hidden] { display: none; }` but bootstrap.min.css set `[hidden] { display: none !important; }` so we also need the `!important` here to be able to override the default hidden behavior on the sphinx rendered scikit-learn.org. See: https://github.com/scikit-learn/scikit-learn/issues/21755 */display: inline-block !important;position: relative;}#sk-container-id-1 div.sk-text-repr-fallback {display: none;}</style><div id=\"sk-container-id-1\" class=\"sk-top-container\"><div class=\"sk-text-repr-fallback\"><pre>SVC(gamma=&#x27;auto&#x27;, random_state=42)</pre><b>In a Jupyter environment, please rerun this cell to show the HTML representation or trust the notebook. <br />On GitHub, the HTML representation is unable to render, please try loading this page with nbviewer.org.</b></div><div class=\"sk-container\" hidden><div class=\"sk-item\"><div class=\"sk-estimator sk-toggleable\"><input class=\"sk-toggleable__control sk-hidden--visually\" id=\"sk-estimator-id-1\" type=\"checkbox\" checked><label for=\"sk-estimator-id-1\" class=\"sk-toggleable__label sk-toggleable__label-arrow\">SVC</label><div class=\"sk-toggleable__content\"><pre>SVC(gamma=&#x27;auto&#x27;, random_state=42)</pre></div></div></div></div></div>"
      ],
      "text/plain": [
       "SVC(gamma='auto', random_state=42)"
      ]
     },
     "execution_count": 5,
     "metadata": {},
     "output_type": "execute_result"
    }
   ],
   "source": [
    "from sklearn.svm import SVC\n",
    "\n",
    "# define the model, then fit the data\n",
    "svm_model_rbf = SVC(kernel=\"rbf\", gamma=\"auto\", random_state=42)\n",
    "svm_model_rbf.fit(X_train, y_train)"
   ]
  },
  {
   "cell_type": "code",
   "execution_count": 6,
   "metadata": {},
   "outputs": [
    {
     "name": "stdout",
     "output_type": "stream",
     "text": [
      "Training Accuracy: 0.8086914208713879\n",
      "Validation Accuracy: 0.744311377245509\n",
      "Classification Report (of the Validation Set):\n",
      "              precision    recall  f1-score   support\n",
      "\n",
      "           0       0.76      0.74      0.75      1725\n",
      "           1       0.73      0.75      0.74      1615\n",
      "\n",
      "    accuracy                           0.74      3340\n",
      "   macro avg       0.74      0.74      0.74      3340\n",
      "weighted avg       0.74      0.74      0.74      3340\n",
      "\n"
     ]
    }
   ],
   "source": [
    "# using the model, predict for the training and validation sets\n",
    "rbf_validation_prediction = svm_model_rbf.predict(X_validation)\n",
    "rbf_train_prediction = svm_model_rbf.predict(X_train)\n",
    "\n",
    "# get accuracies\n",
    "rbf_train_accuracy = accuracy_score(rbf_train_prediction, y_train)\n",
    "rbf_validation_accuracy = accuracy_score(rbf_validation_prediction, y_validation)\n",
    "\n",
    "print(f\"Training Accuracy: {rbf_train_accuracy}\")\n",
    "print(f\"Validation Accuracy: {rbf_validation_accuracy}\")\n",
    "\n",
    "print(\"Classification Report (of the Validation Set):\")\n",
    "print(classification_report(y_validation, rbf_validation_prediction))"
   ]
  },
  {
   "cell_type": "markdown",
   "metadata": {},
   "source": [
    "And next with a poly kernel:"
   ]
  },
  {
   "cell_type": "code",
   "execution_count": 81,
   "metadata": {},
   "outputs": [
    {
     "data": {
      "text/html": [
       "<style>#sk-container-id-10 {color: black;background-color: white;}#sk-container-id-10 pre{padding: 0;}#sk-container-id-10 div.sk-toggleable {background-color: white;}#sk-container-id-10 label.sk-toggleable__label {cursor: pointer;display: block;width: 100%;margin-bottom: 0;padding: 0.3em;box-sizing: border-box;text-align: center;}#sk-container-id-10 label.sk-toggleable__label-arrow:before {content: \"▸\";float: left;margin-right: 0.25em;color: #696969;}#sk-container-id-10 label.sk-toggleable__label-arrow:hover:before {color: black;}#sk-container-id-10 div.sk-estimator:hover label.sk-toggleable__label-arrow:before {color: black;}#sk-container-id-10 div.sk-toggleable__content {max-height: 0;max-width: 0;overflow: hidden;text-align: left;background-color: #f0f8ff;}#sk-container-id-10 div.sk-toggleable__content pre {margin: 0.2em;color: black;border-radius: 0.25em;background-color: #f0f8ff;}#sk-container-id-10 input.sk-toggleable__control:checked~div.sk-toggleable__content {max-height: 200px;max-width: 100%;overflow: auto;}#sk-container-id-10 input.sk-toggleable__control:checked~label.sk-toggleable__label-arrow:before {content: \"▾\";}#sk-container-id-10 div.sk-estimator input.sk-toggleable__control:checked~label.sk-toggleable__label {background-color: #d4ebff;}#sk-container-id-10 div.sk-label input.sk-toggleable__control:checked~label.sk-toggleable__label {background-color: #d4ebff;}#sk-container-id-10 input.sk-hidden--visually {border: 0;clip: rect(1px 1px 1px 1px);clip: rect(1px, 1px, 1px, 1px);height: 1px;margin: -1px;overflow: hidden;padding: 0;position: absolute;width: 1px;}#sk-container-id-10 div.sk-estimator {font-family: monospace;background-color: #f0f8ff;border: 1px dotted black;border-radius: 0.25em;box-sizing: border-box;margin-bottom: 0.5em;}#sk-container-id-10 div.sk-estimator:hover {background-color: #d4ebff;}#sk-container-id-10 div.sk-parallel-item::after {content: \"\";width: 100%;border-bottom: 1px solid gray;flex-grow: 1;}#sk-container-id-10 div.sk-label:hover label.sk-toggleable__label {background-color: #d4ebff;}#sk-container-id-10 div.sk-serial::before {content: \"\";position: absolute;border-left: 1px solid gray;box-sizing: border-box;top: 0;bottom: 0;left: 50%;z-index: 0;}#sk-container-id-10 div.sk-serial {display: flex;flex-direction: column;align-items: center;background-color: white;padding-right: 0.2em;padding-left: 0.2em;position: relative;}#sk-container-id-10 div.sk-item {position: relative;z-index: 1;}#sk-container-id-10 div.sk-parallel {display: flex;align-items: stretch;justify-content: center;background-color: white;position: relative;}#sk-container-id-10 div.sk-item::before, #sk-container-id-10 div.sk-parallel-item::before {content: \"\";position: absolute;border-left: 1px solid gray;box-sizing: border-box;top: 0;bottom: 0;left: 50%;z-index: -1;}#sk-container-id-10 div.sk-parallel-item {display: flex;flex-direction: column;z-index: 1;position: relative;background-color: white;}#sk-container-id-10 div.sk-parallel-item:first-child::after {align-self: flex-end;width: 50%;}#sk-container-id-10 div.sk-parallel-item:last-child::after {align-self: flex-start;width: 50%;}#sk-container-id-10 div.sk-parallel-item:only-child::after {width: 0;}#sk-container-id-10 div.sk-dashed-wrapped {border: 1px dashed gray;margin: 0 0.4em 0.5em 0.4em;box-sizing: border-box;padding-bottom: 0.4em;background-color: white;}#sk-container-id-10 div.sk-label label {font-family: monospace;font-weight: bold;display: inline-block;line-height: 1.2em;}#sk-container-id-10 div.sk-label-container {text-align: center;}#sk-container-id-10 div.sk-container {/* jupyter's `normalize.less` sets `[hidden] { display: none; }` but bootstrap.min.css set `[hidden] { display: none !important; }` so we also need the `!important` here to be able to override the default hidden behavior on the sphinx rendered scikit-learn.org. See: https://github.com/scikit-learn/scikit-learn/issues/21755 */display: inline-block !important;position: relative;}#sk-container-id-10 div.sk-text-repr-fallback {display: none;}</style><div id=\"sk-container-id-10\" class=\"sk-top-container\"><div class=\"sk-text-repr-fallback\"><pre>SVC(C=1000, class_weight=&#x27;balanced&#x27;, degree=6, kernel=&#x27;poly&#x27;, random_state=42)</pre><b>In a Jupyter environment, please rerun this cell to show the HTML representation or trust the notebook. <br />On GitHub, the HTML representation is unable to render, please try loading this page with nbviewer.org.</b></div><div class=\"sk-container\" hidden><div class=\"sk-item\"><div class=\"sk-estimator sk-toggleable\"><input class=\"sk-toggleable__control sk-hidden--visually\" id=\"sk-estimator-id-10\" type=\"checkbox\" checked><label for=\"sk-estimator-id-10\" class=\"sk-toggleable__label sk-toggleable__label-arrow\">SVC</label><div class=\"sk-toggleable__content\"><pre>SVC(C=1000, class_weight=&#x27;balanced&#x27;, degree=6, kernel=&#x27;poly&#x27;, random_state=42)</pre></div></div></div></div></div>"
      ],
      "text/plain": [
       "SVC(C=1000, class_weight='balanced', degree=6, kernel='poly', random_state=42)"
      ]
     },
     "execution_count": 81,
     "metadata": {},
     "output_type": "execute_result"
    }
   ],
   "source": [
    "svm_model_poly = SVC(kernel=\"poly\", class_weight='balanced', degree=6, C=1000, random_state=42)\n",
    "svm_model_poly.fit(X_train, y_train) # TODO - fix this or use a different kernel\"\"\""
   ]
  },
  {
   "cell_type": "code",
   "execution_count": 82,
   "metadata": {},
   "outputs": [
    {
     "name": "stdout",
     "output_type": "stream",
     "text": [
      "Training Accuracy: 0.5484353945201378\n",
      "Validation Accuracy: 0.5622754491017964\n",
      "Classification Report (of the Validation Set):\n",
      "              precision    recall  f1-score   support\n",
      "\n",
      "           0       0.54      0.99      0.70      1725\n",
      "           1       0.92      0.10      0.19      1615\n",
      "\n",
      "    accuracy                           0.56      3340\n",
      "   macro avg       0.73      0.55      0.44      3340\n",
      "weighted avg       0.73      0.56      0.45      3340\n",
      "\n"
     ]
    }
   ],
   "source": [
    "# using the model, predict for the training and validation sets\n",
    "poly_validation_prediction = svm_model_poly.predict(X_validation)\n",
    "poly_train_prediction = svm_model_poly.predict(X_train)\n",
    "\n",
    "# get accuracies\n",
    "poly_train_accuracy = accuracy_score(poly_train_prediction, y_train)\n",
    "poly_validation_accuracy = accuracy_score(poly_validation_prediction, y_validation)\n",
    "\n",
    "print(f\"Training Accuracy: {poly_train_accuracy}\")\n",
    "print(f\"Validation Accuracy: {poly_validation_accuracy}\")\n",
    "\n",
    "print(\"Classification Report (of the Validation Set):\")\n",
    "print(classification_report(y_validation, poly_validation_prediction))"
   ]
  },
  {
   "cell_type": "markdown",
   "metadata": {},
   "source": [
    "## Decision Trees"
   ]
  },
  {
   "cell_type": "code",
   "execution_count": 9,
   "metadata": {},
   "outputs": [
    {
     "name": "stdout",
     "output_type": "stream",
     "text": [
      "Training Accuracy: 0.9045890103308879\n",
      "Validation Accuracy: 0.8793413173652694\n",
      "Classification Report (of the Validation Set):\n",
      "              precision    recall  f1-score   support\n",
      "\n",
      "           0       0.88      0.89      0.88      1725\n",
      "           1       0.88      0.87      0.87      1615\n",
      "\n",
      "    accuracy                           0.88      3340\n",
      "   macro avg       0.88      0.88      0.88      3340\n",
      "weighted avg       0.88      0.88      0.88      3340\n",
      "\n"
     ]
    }
   ],
   "source": [
    "from sklearn.tree import DecisionTreeClassifier\n",
    "\n",
    "# define/train the model\n",
    "tree_model = DecisionTreeClassifier(random_state=4, max_depth=11) # TODO - can change max_depth, min_samples_split, min_samples_leaf\n",
    "tree_model.fit(X_train, y_train)\n",
    "\n",
    "# compute predictions\n",
    "tree_train_predictions = tree_model.predict(X_train)\n",
    "tree_validation_predictions = tree_model.predict(X_validation)\n",
    "\n",
    "# compute accuracy scores\n",
    "tree_train_accuracy = accuracy_score(y_train, tree_train_predictions)\n",
    "tree_validation_accuracy = accuracy_score(y_validation, tree_validation_predictions)\n",
    "\n",
    "# print accuracy/classification results\n",
    "print(f\"Training Accuracy: {tree_train_accuracy}\")\n",
    "print(f\"Validation Accuracy: {tree_validation_accuracy}\")\n",
    "\n",
    "print(\"Classification Report (of the Validation Set):\")\n",
    "print(classification_report(y_validation, tree_validation_predictions))"
   ]
  },
  {
   "cell_type": "markdown",
   "metadata": {},
   "source": [
    "## Random Forest"
   ]
  },
  {
   "cell_type": "code",
   "execution_count": 10,
   "metadata": {},
   "outputs": [
    {
     "name": "stdout",
     "output_type": "stream",
     "text": [
      "Training Accuracy: 0.9596496481509208\n",
      "Validation Accuracy: 0.9095808383233533\n",
      "Classification Report (of the Validation Set):\n",
      "              precision    recall  f1-score   support\n",
      "\n",
      "           0       0.90      0.92      0.91      1725\n",
      "           1       0.92      0.90      0.91      1615\n",
      "\n",
      "    accuracy                           0.91      3340\n",
      "   macro avg       0.91      0.91      0.91      3340\n",
      "weighted avg       0.91      0.91      0.91      3340\n",
      "\n"
     ]
    }
   ],
   "source": [
    "from sklearn.ensemble import RandomForestClassifier\n",
    "\n",
    "# define and train the model TODO - can change max_depth, min_samples_split, min_samples_leaf\n",
    "forest_model = RandomForestClassifier(n_estimators=100, max_depth=18, random_state=42)\n",
    "forest_model.fit(X_train, y_train)\n",
    "\n",
    "# make predictions\n",
    "forest_train_predictions = forest_model.predict(X_train)\n",
    "forest_validation_predictions = forest_model.predict(X_validation)\n",
    "\n",
    "# compute accuracy scores\n",
    "forest_train_accuracy = accuracy_score(y_train, forest_train_predictions)\n",
    "forest_validation_accuracy = accuracy_score(y_validation, forest_validation_predictions)\n",
    "\n",
    "# print accuracy/classification results\n",
    "print(f\"Training Accuracy: {forest_train_accuracy}\")\n",
    "print(f\"Validation Accuracy: {forest_validation_accuracy}\")\n",
    "\n",
    "print(\"Classification Report (of the Validation Set):\")\n",
    "print(classification_report(y_validation, forest_validation_predictions))"
   ]
  },
  {
   "cell_type": "markdown",
   "metadata": {},
   "source": [
    "## Neural Network"
   ]
  },
  {
   "cell_type": "code",
   "execution_count": 12,
   "metadata": {},
   "outputs": [],
   "source": [
    "import torch\n",
    "import torch.nn as nn\n",
    "import torch.optim as optim\n",
    "from torch.utils.data import DataLoader, TensorDataset"
   ]
  },
  {
   "cell_type": "code",
   "execution_count": 13,
   "metadata": {},
   "outputs": [],
   "source": [
    "# Convert to tensor\n",
    "X_train_tensor = torch.from_numpy(np.array(X_train, dtype=np.float32))\n",
    "y_train_tensor = torch.from_numpy(np.array(y_train, dtype=np.int64)).long()\n",
    "\n",
    "X_validation_tensor = torch.from_numpy(np.array(X_validation, dtype=np.float32))\n",
    "y_validation_tensor = torch.from_numpy(np.array(y_validation, dtype=np.int64)).long()\n",
    "\n",
    "# create DataLoader for batching \n",
    "train_dataset = TensorDataset(X_train_tensor, y_train_tensor)\n",
    "train_loader = DataLoader(train_dataset, batch_size=64, shuffle=True)\n",
    "\n",
    "num_classes = 2"
   ]
  },
  {
   "cell_type": "code",
   "execution_count": 58,
   "metadata": {},
   "outputs": [],
   "source": [
    "class SimpleModel(nn.Module):\n",
    "    def __init__(self, input_size, output_size):\n",
    "        super(SimpleModel, self).__init__()\n",
    "        # Define a simple neural network\n",
    "        self.fc1 = nn.Linear(input_size, 64)\n",
    "        self.fc2 = nn.Linear(64, 32)\n",
    "        self.fc3 = nn.Linear(32, 16)\n",
    "        self.fc4 = nn.Linear(16, output_size)\n",
    "        #self.relu = nn.ReLU()\n",
    "        self.tanh = nn.Tanh()\n",
    "        self.sigmoid = nn.Sigmoid()\n",
    "\n",
    "    def forward(self, x):\n",
    "        temp = self.fc4(self.tanh(self.fc3(self.tanh(self.fc2(self.tanh(self.fc1(x)))))))\n",
    "        return self.sigmoid(temp.squeeze())\n",
    "    \n",
    "def train_step(model, X_train, y_train, loss_fn, optimizer, device):\n",
    "    model.train()  # Set the model to training mode\n",
    "    \n",
    "    # Move data to the specified device (CPU/GPU)\n",
    "    X_train, y_train = X_train.to(device), y_train.to(device)\n",
    "\n",
    "    # Zero the gradients before running the backward pass\n",
    "    optimizer.zero_grad()\n",
    "\n",
    "    # Forward pass\n",
    "    outputs = model(X_train)\n",
    "    \n",
    "    # Compute the loss\n",
    "    loss = loss_fn(outputs, y_train)\n",
    "    \n",
    "    # Backward pass\n",
    "    loss.backward()\n",
    "    \n",
    "    # Optimize the model's weights\n",
    "    optimizer.step()\n",
    "\n",
    "    # Track the loss and accuracy\n",
    "    _, predicted = torch.max(outputs, 1)\n",
    "    correct = (predicted == y_train).sum().item()\n",
    "    accuracy = 100 * correct / len(y_train)\n",
    "    \n",
    "    return loss.item(), accuracy\n",
    "\n",
    "def evaluation_step(model, X_test, y_test, loss_fn, device):\n",
    "    model.eval()  # Set the model to evaluation mode\n",
    "    \n",
    "    # Move data to the specified device (CPU/GPU)\n",
    "    X_test, y_test = X_test.to(device), y_test.to(device)\n",
    "    \n",
    "    with torch.no_grad():  # Disable gradient computation during evaluation\n",
    "        # Forward pass\n",
    "        outputs = model(X_test)\n",
    "        \n",
    "        # Calculate loss\n",
    "        test_loss = loss_fn(outputs, y_test)\n",
    "        \n",
    "        # Get predictions\n",
    "        _, predicted = torch.max(outputs, 1)\n",
    "        \n",
    "        # Calculate accuracy\n",
    "        correct = (predicted == y_test).sum().item()\n",
    "        accuracy = 100 * correct / len(y_test)\n",
    "    \n",
    "    return test_loss.item(), accuracy\n",
    "\n",
    "def train_simple_model(X_train, y_train, X_test, y_test, random_seed):\n",
    "    # Make device\n",
    "    device = \"cpu\" \n",
    "    if torch.cuda.is_available(): \n",
    "        device = \"cuda\"\n",
    "    else:\n",
    "        if torch.backends.mps.is_available():\n",
    "            device = \"mps\" \n",
    "    \n",
    "    torch.manual_seed(random_seed) # do not change this\n",
    "\n",
    "    # TODO: write codes to train your model here\n",
    "\n",
    "    # initialize model\n",
    "    # decide which loss function/optimizer to use\n",
    "    # keep track of loss/accuracy\n",
    "    # output is the trained model, training/test accuracy/loss for all epochs\n",
    "\n",
    "    train_loss = []\n",
    "    train_accuracy = []\n",
    "\n",
    "    test_loss = []\n",
    "    test_accuracy = []\n",
    "\n",
    "    num_epochs = 10000\n",
    "    model = SimpleModel(X_train.shape[1], num_classes).to(device)\n",
    "    loss_fn = nn.CrossEntropyLoss()\n",
    "    optimizer = torch.optim.Adam(model.parameters(), lr=0.0001, weight_decay=1e-4)\n",
    "\n",
    "    \n",
    "    for epoch in range(num_epochs):\n",
    "        train = train_step(model=model, X_train=X_train, y_train=y_train, loss_fn=loss_fn, optimizer=optimizer, device=device)\n",
    "        train_loss.append(train[0])\n",
    "        train_accuracy.append(train[1])\n",
    "        evaluate = evaluation_step(model=model, X_test=X_test, y_test=y_test, loss_fn=loss_fn, device=device)\n",
    "        test_loss.append(evaluate[0])\n",
    "        test_accuracy.append(evaluate[1])\n",
    "\n",
    "    return model, train_loss, train_accuracy, test_loss, test_accuracy\n",
    "\n",
    "# TODO: plot accuracy curves\n",
    "def plot_accuracy_performance(train_accuracies, test_accuracies):\n",
    "    # Todo: plot the prediction accuracy curves of the training and test sets\n",
    "    #      during the training process\n",
    "    sns.lineplot(test_accuracies, label='Test Accuracy', color='#7E2E84')\n",
    "    sns.lineplot(train_accuracies, label='Train Accuracy', color='#127475')\n",
    "    plt.title('Accuracy Curves')\n",
    "    plt.xlabel('Number of Iterations'); plt.ylabel('Accuracy')\n",
    "    last_test_accuracy = test_accuracies[-1]\n",
    "    print(f\"Final Test Accuracy: {last_test_accuracy:.2f}%\")\n",
    "\n",
    "# TODO: plot loss curves\n",
    "def plot_loss_performance(train_losses, test_losses):\n",
    "    # Convert PyTorch tensors to NumPy arrays\n",
    "    train_losses = [float(loss) for loss in train_losses]\n",
    "    test_losses = [float(loss) for loss in test_losses]\n",
    "\n",
    "    # Plot the loss curves\n",
    "    plt.figure(figsize=(10, 5))\n",
    "    sns.lineplot(data=train_losses, label='Train Loss', color='#127475')\n",
    "    sns.lineplot(data=test_losses, label='Test Loss', color='#7E2E84')\n",
    "\n",
    "    plt.title('Loss Performance')\n",
    "    plt.xlabel('Number of Iterations')\n",
    "    plt.ylabel('Loss')\n",
    "    plt.legend()\n",
    "    plt.show()"
   ]
  },
  {
   "cell_type": "code",
   "execution_count": null,
   "metadata": {},
   "outputs": [],
   "source": [
    "nn_train_losses = []\n",
    "nn_train_accuracies = []\n",
    "nn_test_losses = [] # this is for the validation set\n",
    "nn_test_accuracies = [] # this is also for the validation set\n",
    "\n",
    "random_seeds = np.random.randint(100, size=5)\n",
    "for random_seed in random_seeds:\n",
    "    # Do not change this cell\n",
    "    model, train_losses, train_accuracies, test_losses, test_accuracies\\\n",
    "    = train_simple_model(X_train_tensor, y_train_tensor, X_validation_tensor, y_validation_tensor, random_seed)\n",
    "    nn_train_losses.append(train_losses)\n",
    "    nn_train_accuracies.append(train_accuracies)\n",
    "    nn_test_losses.append(test_losses)\n",
    "    nn_test_accuracies.append(test_accuracies)"
   ]
  },
  {
   "cell_type": "code",
   "execution_count": 96,
   "metadata": {},
   "outputs": [
    {
     "name": "stdout",
     "output_type": "stream",
     "text": [
      "The average train accuracy over 5 random seeds is: 85.11603533463094\n"
     ]
    }
   ],
   "source": [
    "final_train_accuracies = []\n",
    "for accuracy in nn_train_accuracies:\n",
    "    final_train_accuracies.append(accuracy[-1])\n",
    "print(f\"The average train accuracy over 5 random seeds is: {np.average(final_train_accuracies)}\")"
   ]
  },
  {
   "cell_type": "code",
   "execution_count": 63,
   "metadata": {},
   "outputs": [
    {
     "name": "stdout",
     "output_type": "stream",
     "text": [
      "The averaged validation accuracy over 5 random seeds is: 85.55089820359282\n"
     ]
    }
   ],
   "source": [
    "final_validation_accuracies = []\n",
    "for accuracy in nn_test_accuracies: # supposed to be validation accuracy... but I am not waiting 15mins again!\n",
    "    final_accuracy = accuracy[-1]\n",
    "    final_validation_accuracies.append(final_accuracy)\n",
    "\n",
    "print(f\"The averaged validation accuracy over 5 random seeds is: {np.average(final_validation_accuracies)}\")"
   ]
  },
  {
   "cell_type": "code",
   "execution_count": 59,
   "metadata": {},
   "outputs": [],
   "source": [
    "random_seed = 22\n",
    "\n",
    "model, train_losses, train_accuracies, test_losses, test_accuracies\\\n",
    "    = train_simple_model(X_train_tensor, y_train_tensor, X_validation_tensor, y_validation_tensor, random_seed)"
   ]
  },
  {
   "cell_type": "code",
   "execution_count": 64,
   "metadata": {},
   "outputs": [
    {
     "data": {
      "image/png": "[encoded data removed]",
      "text/plain": [
       "<Figure size 1000x500 with 1 Axes>"
      ]
     },
     "metadata": {},
     "output_type": "display_data"
    }
   ],
   "source": [
    "# Do not change this cell\n",
    "plot_loss_performance(train_losses, test_losses)"
   ]
  },
  {
   "cell_type": "code",
   "execution_count": 65,
   "metadata": {},
   "outputs": [
    {
     "name": "stdout",
     "output_type": "stream",
     "text": [
      "Final Test Accuracy: 85.75%\n"
     ]
    },
    {
     "data": {
      "image/png": "[encoded data removed]",
      "text/plain": [
       "<Figure size 640x480 with 1 Axes>"
      ]
     },
     "metadata": {},
     "output_type": "display_data"
    }
   ],
   "source": [
    "# Do not change this cell\n",
    "plot_accuracy_performance(train_accuracies, test_accuracies)"
   ]
  },
  {
   "cell_type": "markdown",
   "metadata": {},
   "source": [
    "## Test Accuracies"
   ]
  },
  {
   "cell_type": "markdown",
   "metadata": {},
   "source": [
    "Now that we have trained these various models and used the validation set to tune hyperparameters, we can compute the final accuracies of the test set on each of these models."
   ]
  },
  {
   "cell_type": "markdown",
   "metadata": {},
   "source": [
    "### Logistic Regression"
   ]
  },
  {
   "cell_type": "code",
   "execution_count": 84,
   "metadata": {},
   "outputs": [
    {
     "name": "stdout",
     "output_type": "stream",
     "text": [
      "Classification Report of the Test Set:\n",
      "               precision    recall  f1-score   support\n",
      "\n",
      "           0       0.76      0.80      0.78      1655\n",
      "           1       0.80      0.76      0.78      1684\n",
      "\n",
      "    accuracy                           0.78      3339\n",
      "   macro avg       0.78      0.78      0.78      3339\n",
      "weighted avg       0.78      0.78      0.78      3339\n",
      "\n"
     ]
    }
   ],
   "source": [
    "logistic_test_predictions = logistic_model.predict(X_test)\n",
    "print(f\"Classification Report of the Test Set:\\n {classification_report(y_test, logistic_test_predictions)}\")"
   ]
  },
  {
   "cell_type": "markdown",
   "metadata": {},
   "source": [
    "### SVM"
   ]
  },
  {
   "cell_type": "code",
   "execution_count": 85,
   "metadata": {},
   "outputs": [
    {
     "name": "stdout",
     "output_type": "stream",
     "text": [
      "Classification Report of the Test Set:\n",
      "               precision    recall  f1-score   support\n",
      "\n",
      "           0       0.76      0.77      0.76      1655\n",
      "           1       0.77      0.76      0.76      1684\n",
      "\n",
      "    accuracy                           0.76      3339\n",
      "   macro avg       0.76      0.76      0.76      3339\n",
      "weighted avg       0.76      0.76      0.76      3339\n",
      "\n"
     ]
    }
   ],
   "source": [
    "SVM_test_predictions = svm_model_rbf.predict(X_test)\n",
    "print(f\"Classification Report of the Test Set:\\n {classification_report(y_test, SVM_test_predictions)}\")"
   ]
  },
  {
   "cell_type": "markdown",
   "metadata": {},
   "source": [
    "### Decision Tree"
   ]
  },
  {
   "cell_type": "code",
   "execution_count": 86,
   "metadata": {},
   "outputs": [
    {
     "name": "stdout",
     "output_type": "stream",
     "text": [
      "Classification Report of the Test Set:\n",
      "               precision    recall  f1-score   support\n",
      "\n",
      "           0       0.88      0.89      0.88      1655\n",
      "           1       0.89      0.88      0.88      1684\n",
      "\n",
      "    accuracy                           0.88      3339\n",
      "   macro avg       0.88      0.88      0.88      3339\n",
      "weighted avg       0.88      0.88      0.88      3339\n",
      "\n"
     ]
    }
   ],
   "source": [
    "tree_test_predictions = tree_model.predict(X_test)\n",
    "print(f\"Classification Report of the Test Set:\\n {classification_report(y_test, tree_test_predictions)}\")"
   ]
  },
  {
   "cell_type": "markdown",
   "metadata": {},
   "source": [
    "### Random Forest"
   ]
  },
  {
   "cell_type": "code",
   "execution_count": 87,
   "metadata": {},
   "outputs": [
    {
     "name": "stdout",
     "output_type": "stream",
     "text": [
      "Classification Report of the Test Set:\n",
      "               precision    recall  f1-score   support\n",
      "\n",
      "           0       0.90      0.94      0.92      1655\n",
      "           1       0.94      0.90      0.92      1684\n",
      "\n",
      "    accuracy                           0.92      3339\n",
      "   macro avg       0.92      0.92      0.92      3339\n",
      "weighted avg       0.92      0.92      0.92      3339\n",
      "\n"
     ]
    }
   ],
   "source": [
    "forest_test_predictions = forest_model.predict(X_test)\n",
    "print(f\"Classification Report of the Test Set:\\n {classification_report(y_test, forest_test_predictions)}\")"
   ]
  },
  {
   "cell_type": "markdown",
   "metadata": {},
   "source": [
    "### Neural Network"
   ]
  },
  {
   "cell_type": "code",
   "execution_count": 93,
   "metadata": {},
   "outputs": [
    {
     "name": "stdout",
     "output_type": "stream",
     "text": [
      "Test Accuracy: 84.94%\n"
     ]
    }
   ],
   "source": [
    "X_test_tensor = torch.from_numpy(np.array(X_test, dtype=np.float32))\n",
    "y_test_tensor = torch.from_numpy(np.array(y_test, dtype=np.int64))\n",
    "\n",
    "device = \"cpu\"\n",
    "if torch.cuda.is_available():\n",
    "    device = \"cuda\"\n",
    "elif torch.backends.mps.is_available():\n",
    "    device = \"mps\"\n",
    "\n",
    "loss_fn = nn.CrossEntropyLoss()\n",
    "\n",
    "# Evaluate on the test set\n",
    "test_loss, test_accuracy = evaluation_step(model, X_test_tensor, y_test_tensor, loss_fn, device)\n",
    "\n",
    "print(f\"Test Accuracy: {test_accuracy:.2f}%\")"
   ]
  }
 ],
 "metadata": {
  "kernelspec": {
   "display_name": "base",
   "language": "python",
   "name": "python3"
  },
  "language_info": {
   "codemirror_mode": {
    "name": "ipython",
    "version": 3
   },
   "file_extension": ".py",
   "mimetype": "text/x-python",
   "name": "python",
   "nbconvert_exporter": "python",
   "pygments_lexer": "ipython3",
   "version": "3.11.7"
  }
 },
 "nbformat": 4,
 "nbformat_minor": 2
}
