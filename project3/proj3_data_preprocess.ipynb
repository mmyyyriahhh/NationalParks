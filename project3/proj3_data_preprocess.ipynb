{
 "cells": [
  {
   "cell_type": "markdown",
   "metadata": {},
   "source": [
    "# Data Preprocessing\n",
    "Myriah Hodgson, for DSCI 372"
   ]
  },
  {
   "cell_type": "code",
   "execution_count": 127,
   "metadata": {},
   "outputs": [],
   "source": [
    "# imports\n",
    "import pandas as pd\n",
    "import numpy as np\n",
    "import seaborn as sns"
   ]
  },
  {
   "cell_type": "markdown",
   "metadata": {},
   "source": [
    "Let's start by reading in the data:"
   ]
  },
  {
   "cell_type": "code",
   "execution_count": 128,
   "metadata": {},
   "outputs": [
    {
     "data": {
      "text/plain": [
       "Index(['ParkName', 'UnitCode', 'ParkType', 'Region', 'State', 'Year', 'Month',\n",
       "       'RecreationVisits', 'NonRecreationVisits', 'TentCampers', 'RVCampers',\n",
       "       'Backcountry'],\n",
       "      dtype='object')"
      ]
     },
     "execution_count": 128,
     "metadata": {},
     "output_type": "execute_result"
    }
   ],
   "source": [
    "# read in the data and look at the columns\n",
    "park_visitation = pd.read_csv('Park_Data.csv')\n",
    "park_visitation.columns"
   ]
  },
  {
   "cell_type": "markdown",
   "metadata": {},
   "source": [
    "And finding if there are any null values:"
   ]
  },
  {
   "cell_type": "code",
   "execution_count": 129,
   "metadata": {},
   "outputs": [
    {
     "name": "stdout",
     "output_type": "stream",
     "text": [
      "ParkName               0\n",
      "UnitCode               0\n",
      "ParkType               0\n",
      "Region                 0\n",
      "State                  0\n",
      "Year                   0\n",
      "Month                  0\n",
      "RecreationVisits       0\n",
      "NonRecreationVisits    0\n",
      "TentCampers            0\n",
      "RVCampers              0\n",
      "Backcountry            0\n",
      "dtype: int64\n"
     ]
    }
   ],
   "source": [
    "# find anly null values\n",
    "print(park_visitation.isnull().sum())"
   ]
  },
  {
   "cell_type": "markdown",
   "metadata": {},
   "source": [
    "There are no null values in any of our columns. Let's look at the info of our columns:"
   ]
  },
  {
   "cell_type": "code",
   "execution_count": 130,
   "metadata": {},
   "outputs": [
    {
     "name": "stdout",
     "output_type": "stream",
     "text": [
      "<class 'pandas.core.frame.DataFrame'>\n",
      "RangeIndex: 33395 entries, 0 to 33394\n",
      "Data columns (total 12 columns):\n",
      " #   Column               Non-Null Count  Dtype \n",
      "---  ------               --------------  ----- \n",
      " 0   ParkName             33395 non-null  object\n",
      " 1   UnitCode             33395 non-null  object\n",
      " 2   ParkType             33395 non-null  object\n",
      " 3   Region               33395 non-null  object\n",
      " 4   State                33395 non-null  object\n",
      " 5   Year                 33395 non-null  int64 \n",
      " 6   Month                33395 non-null  int64 \n",
      " 7   RecreationVisits     33395 non-null  int64 \n",
      " 8   NonRecreationVisits  33395 non-null  int64 \n",
      " 9   TentCampers          33395 non-null  int64 \n",
      " 10  RVCampers            33395 non-null  int64 \n",
      " 11  Backcountry          33395 non-null  int64 \n",
      "dtypes: int64(7), object(5)\n",
      "memory usage: 3.1+ MB\n",
      "None\n"
     ]
    }
   ],
   "source": [
    "print(park_visitation.info())"
   ]
  },
  {
   "cell_type": "code",
   "execution_count": 131,
   "metadata": {},
   "outputs": [
    {
     "data": {
      "text/html": [
       "<div>\n",
       "<style scoped>\n",
       "    .dataframe tbody tr th:only-of-type {\n",
       "        vertical-align: middle;\n",
       "    }\n",
       "\n",
       "    .dataframe tbody tr th {\n",
       "        vertical-align: top;\n",
       "    }\n",
       "\n",
       "    .dataframe thead th {\n",
       "        text-align: right;\n",
       "    }\n",
       "</style>\n",
       "<table border=\"1\" class=\"dataframe\">\n",
       "  <thead>\n",
       "    <tr style=\"text-align: right;\">\n",
       "      <th></th>\n",
       "      <th>ParkName</th>\n",
       "      <th>UnitCode</th>\n",
       "      <th>ParkType</th>\n",
       "      <th>Region</th>\n",
       "      <th>State</th>\n",
       "      <th>Year</th>\n",
       "      <th>Month</th>\n",
       "      <th>RecreationVisits</th>\n",
       "      <th>NonRecreationVisits</th>\n",
       "      <th>TentCampers</th>\n",
       "      <th>RVCampers</th>\n",
       "      <th>Backcountry</th>\n",
       "    </tr>\n",
       "  </thead>\n",
       "  <tbody>\n",
       "    <tr>\n",
       "      <th>0</th>\n",
       "      <td>Acadia NP</td>\n",
       "      <td>ACAD</td>\n",
       "      <td>National Park</td>\n",
       "      <td>Northeast</td>\n",
       "      <td>ME</td>\n",
       "      <td>1979</td>\n",
       "      <td>1</td>\n",
       "      <td>6011</td>\n",
       "      <td>15252</td>\n",
       "      <td>102</td>\n",
       "      <td>13</td>\n",
       "      <td>0</td>\n",
       "    </tr>\n",
       "    <tr>\n",
       "      <th>1</th>\n",
       "      <td>Acadia NP</td>\n",
       "      <td>ACAD</td>\n",
       "      <td>National Park</td>\n",
       "      <td>Northeast</td>\n",
       "      <td>ME</td>\n",
       "      <td>1979</td>\n",
       "      <td>2</td>\n",
       "      <td>5243</td>\n",
       "      <td>13776</td>\n",
       "      <td>53</td>\n",
       "      <td>8</td>\n",
       "      <td>0</td>\n",
       "    </tr>\n",
       "  </tbody>\n",
       "</table>\n",
       "</div>"
      ],
      "text/plain": [
       "    ParkName UnitCode       ParkType      Region State  Year  Month  \\\n",
       "0  Acadia NP     ACAD  National Park  Northeast     ME  1979      1   \n",
       "1  Acadia NP     ACAD  National Park  Northeast     ME  1979      2   \n",
       "\n",
       "   RecreationVisits  NonRecreationVisits  TentCampers  RVCampers  Backcountry  \n",
       "0              6011                15252          102         13            0  \n",
       "1              5243                13776           53          8            0  "
      ]
     },
     "execution_count": 131,
     "metadata": {},
     "output_type": "execute_result"
    }
   ],
   "source": [
    "park_visitation.head(2)"
   ]
  },
  {
   "cell_type": "code",
   "execution_count": 132,
   "metadata": {},
   "outputs": [
    {
     "data": {
      "text/plain": [
       "array(['National Park'], dtype=object)"
      ]
     },
     "execution_count": 132,
     "metadata": {},
     "output_type": "execute_result"
    }
   ],
   "source": [
    "park_visitation['ParkType'].unique()"
   ]
  },
  {
   "cell_type": "markdown",
   "metadata": {},
   "source": [
    "We can drop the 'ParkType' column because all applicable data entries are from national park data."
   ]
  },
  {
   "cell_type": "code",
   "execution_count": 133,
   "metadata": {},
   "outputs": [],
   "source": [
    "park_visitation = park_visitation.drop(columns=['ParkType'])"
   ]
  },
  {
   "cell_type": "markdown",
   "metadata": {},
   "source": [
    "Fortunately, it looks like our data is largely cleaned enough. All the entries we wish to be numeric already are, and there are no null values in the entire dataset. The only reasonable concern is that our 'Backcountry' column is filled with quite a few 0 values. However, considering the low number of campers generally allowed for much of those months, it is reasonable that backcountry camping is the least plausible activity, or an activity restricted to only a few months or parks. "
   ]
  },
  {
   "cell_type": "markdown",
   "metadata": {},
   "source": [
    "My objective in this project is to predict each data entry as being in high season or low season based on the features of our datasets. Such predictions could help individuals decide historically what time of year is busy at certain parks, in order for visitors to decide when they should visit and additionally park staff to decide how to appropriately staff their parks. "
   ]
  },
  {
   "cell_type": "markdown",
   "metadata": {},
   "source": [
    "Let's create our target variable based on the 'Recreation Visits' column. If entries are above the median value, we will consider them high season, and all other entries as low season."
   ]
  },
  {
   "cell_type": "code",
   "execution_count": 134,
   "metadata": {},
   "outputs": [],
   "source": [
    "# group by the park name, taking the median of that park's recreation visits\n",
    "park_grouped = park_visitation.groupby(by='ParkName')['RecreationVisits'].median().reset_index()\n",
    "\n",
    "# rename as median recreation\n",
    "park_grouped = park_grouped.rename(columns={'RecreationVisits':'MedianRecreation'})\n",
    "\n",
    "# merge tables\n",
    "park_visitation = pd.merge(left=park_visitation, right=park_grouped, on='ParkName')\n"
   ]
  },
  {
   "cell_type": "code",
   "execution_count": null,
   "metadata": {},
   "outputs": [],
   "source": [
    "# create column for if high visitation or not - 1 if above that park's median, 0 else\n",
    "park_visitation['High_Visitation'] = (park_visitation['RecreationVisits'] > park_visitation['MedianRecreation']).astype(int)\n",
    "\n",
    "# drop 'RecreationVisits' and 'MedianRecreation' because they now can't be used as predictorsf\n",
    "park_visitation = park_visitation.drop(columns=['RecreationVisits', 'MedianRecreation'])"
   ]
  },
  {
   "cell_type": "markdown",
   "metadata": {},
   "source": [
    "We can next encode our categorical variables as numeric:"
   ]
  },
  {
   "cell_type": "code",
   "execution_count": 136,
   "metadata": {},
   "outputs": [],
   "source": [
    "park_encoded = pd.get_dummies(park_visitation, columns=['ParkName', 'UnitCode', 'Region', 'State'], drop_first=True)"
   ]
  },
  {
   "cell_type": "code",
   "execution_count": 137,
   "metadata": {},
   "outputs": [
    {
     "data": {
      "text/html": [
       "<div>\n",
       "<style scoped>\n",
       "    .dataframe tbody tr th:only-of-type {\n",
       "        vertical-align: middle;\n",
       "    }\n",
       "\n",
       "    .dataframe tbody tr th {\n",
       "        vertical-align: top;\n",
       "    }\n",
       "\n",
       "    .dataframe thead th {\n",
       "        text-align: right;\n",
       "    }\n",
       "</style>\n",
       "<table border=\"1\" class=\"dataframe\">\n",
       "  <thead>\n",
       "    <tr style=\"text-align: right;\">\n",
       "      <th></th>\n",
       "      <th>Year</th>\n",
       "      <th>Month</th>\n",
       "      <th>NonRecreationVisits</th>\n",
       "      <th>TentCampers</th>\n",
       "      <th>RVCampers</th>\n",
       "      <th>Backcountry</th>\n",
       "      <th>High_Visitation</th>\n",
       "      <th>ParkName_Arches NP</th>\n",
       "      <th>ParkName_Badlands NP</th>\n",
       "      <th>ParkName_Big Bend NP</th>\n",
       "      <th>...</th>\n",
       "      <th>State_SC</th>\n",
       "      <th>State_SD</th>\n",
       "      <th>State_TN</th>\n",
       "      <th>State_TX</th>\n",
       "      <th>State_UT</th>\n",
       "      <th>State_VA</th>\n",
       "      <th>State_VI</th>\n",
       "      <th>State_WA</th>\n",
       "      <th>State_WV</th>\n",
       "      <th>State_WY</th>\n",
       "    </tr>\n",
       "  </thead>\n",
       "  <tbody>\n",
       "    <tr>\n",
       "      <th>0</th>\n",
       "      <td>1979</td>\n",
       "      <td>1</td>\n",
       "      <td>15252</td>\n",
       "      <td>102</td>\n",
       "      <td>13</td>\n",
       "      <td>0</td>\n",
       "      <td>0</td>\n",
       "      <td>False</td>\n",
       "      <td>False</td>\n",
       "      <td>False</td>\n",
       "      <td>...</td>\n",
       "      <td>False</td>\n",
       "      <td>False</td>\n",
       "      <td>False</td>\n",
       "      <td>False</td>\n",
       "      <td>False</td>\n",
       "      <td>False</td>\n",
       "      <td>False</td>\n",
       "      <td>False</td>\n",
       "      <td>False</td>\n",
       "      <td>False</td>\n",
       "    </tr>\n",
       "    <tr>\n",
       "      <th>1</th>\n",
       "      <td>1979</td>\n",
       "      <td>2</td>\n",
       "      <td>13776</td>\n",
       "      <td>53</td>\n",
       "      <td>8</td>\n",
       "      <td>0</td>\n",
       "      <td>0</td>\n",
       "      <td>False</td>\n",
       "      <td>False</td>\n",
       "      <td>False</td>\n",
       "      <td>...</td>\n",
       "      <td>False</td>\n",
       "      <td>False</td>\n",
       "      <td>False</td>\n",
       "      <td>False</td>\n",
       "      <td>False</td>\n",
       "      <td>False</td>\n",
       "      <td>False</td>\n",
       "      <td>False</td>\n",
       "      <td>False</td>\n",
       "      <td>False</td>\n",
       "    </tr>\n",
       "    <tr>\n",
       "      <th>2</th>\n",
       "      <td>1979</td>\n",
       "      <td>3</td>\n",
       "      <td>15252</td>\n",
       "      <td>176</td>\n",
       "      <td>37</td>\n",
       "      <td>0</td>\n",
       "      <td>0</td>\n",
       "      <td>False</td>\n",
       "      <td>False</td>\n",
       "      <td>False</td>\n",
       "      <td>...</td>\n",
       "      <td>False</td>\n",
       "      <td>False</td>\n",
       "      <td>False</td>\n",
       "      <td>False</td>\n",
       "      <td>False</td>\n",
       "      <td>False</td>\n",
       "      <td>False</td>\n",
       "      <td>False</td>\n",
       "      <td>False</td>\n",
       "      <td>False</td>\n",
       "    </tr>\n",
       "    <tr>\n",
       "      <th>3</th>\n",
       "      <td>1979</td>\n",
       "      <td>4</td>\n",
       "      <td>37657</td>\n",
       "      <td>1037</td>\n",
       "      <td>459</td>\n",
       "      <td>0</td>\n",
       "      <td>1</td>\n",
       "      <td>False</td>\n",
       "      <td>False</td>\n",
       "      <td>False</td>\n",
       "      <td>...</td>\n",
       "      <td>False</td>\n",
       "      <td>False</td>\n",
       "      <td>False</td>\n",
       "      <td>False</td>\n",
       "      <td>False</td>\n",
       "      <td>False</td>\n",
       "      <td>False</td>\n",
       "      <td>False</td>\n",
       "      <td>False</td>\n",
       "      <td>False</td>\n",
       "    </tr>\n",
       "    <tr>\n",
       "      <th>4</th>\n",
       "      <td>1979</td>\n",
       "      <td>5</td>\n",
       "      <td>50616</td>\n",
       "      <td>3193</td>\n",
       "      <td>1148</td>\n",
       "      <td>0</td>\n",
       "      <td>1</td>\n",
       "      <td>False</td>\n",
       "      <td>False</td>\n",
       "      <td>False</td>\n",
       "      <td>...</td>\n",
       "      <td>False</td>\n",
       "      <td>False</td>\n",
       "      <td>False</td>\n",
       "      <td>False</td>\n",
       "      <td>False</td>\n",
       "      <td>False</td>\n",
       "      <td>False</td>\n",
       "      <td>False</td>\n",
       "      <td>False</td>\n",
       "      <td>False</td>\n",
       "    </tr>\n",
       "  </tbody>\n",
       "</table>\n",
       "<p>5 rows × 165 columns</p>\n",
       "</div>"
      ],
      "text/plain": [
       "   Year  Month  NonRecreationVisits  TentCampers  RVCampers  Backcountry  \\\n",
       "0  1979      1                15252          102         13            0   \n",
       "1  1979      2                13776           53          8            0   \n",
       "2  1979      3                15252          176         37            0   \n",
       "3  1979      4                37657         1037        459            0   \n",
       "4  1979      5                50616         3193       1148            0   \n",
       "\n",
       "   High_Visitation  ParkName_Arches NP  ParkName_Badlands NP  \\\n",
       "0                0               False                 False   \n",
       "1                0               False                 False   \n",
       "2                0               False                 False   \n",
       "3                1               False                 False   \n",
       "4                1               False                 False   \n",
       "\n",
       "   ParkName_Big Bend NP  ...  State_SC  State_SD  State_TN  State_TX  \\\n",
       "0                 False  ...     False     False     False     False   \n",
       "1                 False  ...     False     False     False     False   \n",
       "2                 False  ...     False     False     False     False   \n",
       "3                 False  ...     False     False     False     False   \n",
       "4                 False  ...     False     False     False     False   \n",
       "\n",
       "   State_UT  State_VA  State_VI  State_WA  State_WV  State_WY  \n",
       "0     False     False     False     False     False     False  \n",
       "1     False     False     False     False     False     False  \n",
       "2     False     False     False     False     False     False  \n",
       "3     False     False     False     False     False     False  \n",
       "4     False     False     False     False     False     False  \n",
       "\n",
       "[5 rows x 165 columns]"
      ]
     },
     "execution_count": 137,
     "metadata": {},
     "output_type": "execute_result"
    }
   ],
   "source": [
    "park_encoded.head()"
   ]
  },
  {
   "cell_type": "markdown",
   "metadata": {},
   "source": [
    "And normalize our numeric columns:"
   ]
  },
  {
   "cell_type": "code",
   "execution_count": 138,
   "metadata": {},
   "outputs": [],
   "source": [
    "from sklearn.preprocessing import StandardScaler\n",
    "\n",
    "num_features = ['Year', 'Month', 'NonRecreationVisits', 'TentCampers', 'RVCampers', 'Backcountry']\n",
    "\n",
    "# scale the numeric features\n",
    "scaler = StandardScaler()\n",
    "park_encoded[num_features] = scaler.fit_transform(park_encoded[num_features])"
   ]
  },
  {
   "cell_type": "markdown",
   "metadata": {},
   "source": [
    "Finally, we can save our cleaned data to be able to be used in the next notebook."
   ]
  },
  {
   "cell_type": "code",
   "execution_count": 139,
   "metadata": {},
   "outputs": [],
   "source": [
    "park_encoded.to_csv('Cleaned_ParkData.csv')"
   ]
  }
 ],
 "metadata": {
  "kernelspec": {
   "display_name": "base",
   "language": "python",
   "name": "python3"
  },
  "language_info": {
   "codemirror_mode": {
    "name": "ipython",
    "version": 3
   },
   "file_extension": ".py",
   "mimetype": "text/x-python",
   "name": "python",
   "nbconvert_exporter": "python",
   "pygments_lexer": "ipython3",
   "version": "3.11.7"
  }
 },
 "nbformat": 4,
 "nbformat_minor": 2
}
